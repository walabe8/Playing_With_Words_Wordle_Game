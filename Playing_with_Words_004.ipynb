{
  "nbformat": 4,
  "nbformat_minor": 0,
  "metadata": {
    "colab": {
      "provenance": [],
      "authorship_tag": "ABX9TyM8BeSUV4mujn2ymthSZXko",
      "include_colab_link": true
    },
    "kernelspec": {
      "name": "python3",
      "display_name": "Python 3"
    },
    "language_info": {
      "name": "python"
    }
  },
  "cells": [
    {
      "cell_type": "markdown",
      "metadata": {
        "id": "view-in-github",
        "colab_type": "text"
      },
      "source": [
        "<a href=\"https://colab.research.google.com/github/walabe8/Playing_With_Words_Wordle_Game/blob/main/Playing_with_Words_004.ipynb\" target=\"_parent\"><img src=\"https://colab.research.google.com/assets/colab-badge.svg\" alt=\"Open In Colab\"/></a>"
      ]
    },
    {
      "cell_type": "code",
      "execution_count": 45,
      "metadata": {
        "id": "4CVJJgTcN2ZV",
        "colab": {
          "base_uri": "https://localhost:8080/",
          "height": 591
        },
        "outputId": "1f10530c-592f-4188-b3d3-0e4534a9fd24"
      },
      "outputs": [
        {
          "output_type": "stream",
          "name": "stdout",
          "text": [
            "Requirement already satisfied: colorama in /usr/local/lib/python3.11/dist-packages (0.4.6)\n",
            "Welcome to Word Play!\n",
            "\n",
            "You have five tries to get the word correct\n",
            "The word is SIX CHARACTERS long, and you must enter a guess of this length\n",
            "If a letter is in the correct place, it will be green\n",
            "If a letter is in the word but NOT in the correct place, it will be yellow\n",
            "If a letter is NOT in the correct place, it will be red\n",
            "\n",
            "Enter a six letter word: Pythun\n",
            "Word is 6 characters but it's not the right word! You have 4 chances left.\n",
            "\u001b[103m\u001b[30m P \u001b[41m\u001b[37m P \u001b[0m "
          ]
        },
        {
          "output_type": "error",
          "ename": "TypeError",
          "evalue": "string indices must be integers, not 'str'",
          "traceback": [
            "\u001b[0;31m---------------------------------------------------------------------------\u001b[0m",
            "\u001b[0;31mTypeError\u001b[0m                                 Traceback (most recent call last)",
            "\u001b[0;32m<ipython-input-45-d946ff16c697>\u001b[0m in \u001b[0;36m<cell line: 0>\u001b[0;34m()\u001b[0m\n\u001b[1;32m     85\u001b[0m \u001b[0;31m### MAIN PROGRAM ###\u001b[0m\u001b[0;34m\u001b[0m\u001b[0;34m\u001b[0m\u001b[0m\n\u001b[1;32m     86\u001b[0m \u001b[0mintroToGame\u001b[0m\u001b[0;34m(\u001b[0m\u001b[0;34m)\u001b[0m\u001b[0;34m\u001b[0m\u001b[0;34m\u001b[0m\u001b[0m\n\u001b[0;32m---> 87\u001b[0;31m \u001b[0mgetSixLetterInput\u001b[0m\u001b[0;34m(\u001b[0m\u001b[0;34m)\u001b[0m\u001b[0;34m\u001b[0m\u001b[0;34m\u001b[0m\u001b[0m\n\u001b[0m\u001b[1;32m     88\u001b[0m \u001b[0;34m\u001b[0m\u001b[0m\n\u001b[1;32m     89\u001b[0m \u001b[0;31m### Requirements ###\u001b[0m\u001b[0;34m\u001b[0m\u001b[0;34m\u001b[0m\u001b[0m\n",
            "\u001b[0;32m<ipython-input-45-d946ff16c697>\u001b[0m in \u001b[0;36mgetSixLetterInput\u001b[0;34m()\u001b[0m\n\u001b[1;32m     72\u001b[0m             \u001b[0;32melif\u001b[0m \u001b[0mword\u001b[0m \u001b[0;34m!=\u001b[0m \u001b[0msecretWord\u001b[0m\u001b[0;34m:\u001b[0m\u001b[0;34m\u001b[0m\u001b[0;34m\u001b[0m\u001b[0m\n\u001b[1;32m     73\u001b[0m               \u001b[0mprintColorfulLetter\u001b[0m\u001b[0;34m(\u001b[0m\u001b[0mword\u001b[0m\u001b[0;34m[\u001b[0m\u001b[0mi\u001b[0m\u001b[0;34m]\u001b[0m\u001b[0;34m,\u001b[0m \u001b[0;32mTrue\u001b[0m\u001b[0;34m,\u001b[0m \u001b[0;32mFalse\u001b[0m\u001b[0;34m)\u001b[0m\u001b[0;34m\u001b[0m\u001b[0;34m\u001b[0m\u001b[0m\n\u001b[0;32m---> 74\u001b[0;31m               \u001b[0mprintGuessAccuracy\u001b[0m\u001b[0;34m(\u001b[0m\u001b[0mword\u001b[0m\u001b[0;34m,\u001b[0m \u001b[0msecretWord\u001b[0m\u001b[0;34m)\u001b[0m\u001b[0;34m\u001b[0m\u001b[0;34m\u001b[0m\u001b[0m\n\u001b[0m\u001b[1;32m     75\u001b[0m             \u001b[0;32melse\u001b[0m\u001b[0;34m:\u001b[0m\u001b[0;34m\u001b[0m\u001b[0;34m\u001b[0m\u001b[0m\n\u001b[1;32m     76\u001b[0m               \u001b[0mprintColorfulLetter\u001b[0m\u001b[0;34m(\u001b[0m\u001b[0mword\u001b[0m\u001b[0;34m[\u001b[0m\u001b[0mi\u001b[0m\u001b[0;34m]\u001b[0m\u001b[0;34m,\u001b[0m \u001b[0;32mFalse\u001b[0m\u001b[0;34m,\u001b[0m \u001b[0;32mFalse\u001b[0m\u001b[0;34m)\u001b[0m\u001b[0;34m\u001b[0m\u001b[0;34m\u001b[0m\u001b[0m\n",
            "\u001b[0;32m<ipython-input-45-d946ff16c697>\u001b[0m in \u001b[0;36mprintGuessAccuracy\u001b[0;34m(guess, actual)\u001b[0m\n\u001b[1;32m     36\u001b[0m     \u001b[0;32mif\u001b[0m \u001b[0mletter\u001b[0m \u001b[0;34m==\u001b[0m \u001b[0mposition\u001b[0m\u001b[0;34m:\u001b[0m\u001b[0;34m\u001b[0m\u001b[0;34m\u001b[0m\u001b[0m\n\u001b[1;32m     37\u001b[0m       \u001b[0;31m# If the letter is in the secret word, is it also AT THE CURRENT INDEX in the secret word?\u001b[0m\u001b[0;34m\u001b[0m\u001b[0;34m\u001b[0m\u001b[0m\n\u001b[0;32m---> 38\u001b[0;31m       \u001b[0;32mif\u001b[0m\u001b[0;34m(\u001b[0m\u001b[0mletter\u001b[0m \u001b[0;34m==\u001b[0m \u001b[0msecret\u001b[0m\u001b[0;34m[\u001b[0m\u001b[0mposition\u001b[0m\u001b[0;34m]\u001b[0m\u001b[0;34m)\u001b[0m\u001b[0;34m:\u001b[0m\u001b[0;34m\u001b[0m\u001b[0;34m\u001b[0m\u001b[0m\n\u001b[0m\u001b[1;32m     39\u001b[0m         \u001b[0mprintColorfulLetter\u001b[0m\u001b[0;34m(\u001b[0m\u001b[0mletter\u001b[0m\u001b[0;34m,\u001b[0m \u001b[0;32mTrue\u001b[0m\u001b[0;34m,\u001b[0m \u001b[0;32mTrue\u001b[0m\u001b[0;34m)\u001b[0m\u001b[0;34m\u001b[0m\u001b[0;34m\u001b[0m\u001b[0m\n\u001b[1;32m     40\u001b[0m       \u001b[0;31m# If it's not at the current index, we know by this point in the code that it's still used in the secret word somewhere...\u001b[0m\u001b[0;34m\u001b[0m\u001b[0;34m\u001b[0m\u001b[0m\n",
            "\u001b[0;31mTypeError\u001b[0m: string indices must be integers, not 'str'"
          ]
        }
      ],
      "source": [
        "!pip install colorama\n",
        "from colorama import Fore, Back, Style\n",
        "\n",
        "#### FUNCTIONS ####\n",
        "\n",
        "# Prints intro to game\n",
        "def introToGame():\n",
        "  print(\"Welcome to Word Play!\")\n",
        "  print()\n",
        "  print(f\"You have five tries to get the word correct\")\n",
        "  print(\"The word is SIX CHARACTERS long, and you must enter a guess of this length\")\n",
        "  print(\"If a letter is in the correct place, it will be green\")\n",
        "  print(\"If a letter is in the word but NOT in the correct place, it will be yellow\")\n",
        "  print(\"If a letter is NOT in the correct place, it will be red\")\n",
        "  print()\n",
        "\n",
        "# Prints out a letter with a colorful background\n",
        "def printColorfulLetter(letter, isLetterInWord, isLetterInCorrectPlace = False):\n",
        "  if(not isLetterInWord):\n",
        "    print(Back.RED + Fore.WHITE + f\" {letter} \", end=\"\")\n",
        "  else:\n",
        "    if(isLetterInCorrectPlace):\n",
        "      print(Back.LIGHTGREEN_EX + Fore.WHITE + f\" {letter} \", end=\"\")\n",
        "    else:\n",
        "      print(Back.LIGHTYELLOW_EX + Fore.BLACK + f\" {letter} \", end=\"\")\n",
        "\n",
        "#### FIX THIS FUNCTION BELOW\n",
        "# Display a guess, where each letter is color-coded by it's accuracy\n",
        "def printGuessAccuracy(guess, actual):\n",
        "  for i in range(6):\n",
        "    # Grab the letter from the guess\n",
        "    letter = guess[i]\n",
        "    position = actual[i]\n",
        "    secret = \"pyThOn\"\n",
        "    # Check if the letter at this index of the user's guess is in the secret word AT ALL or not\n",
        "    if letter == position:\n",
        "      # If the letter is in the secret word, is it also AT THE CURRENT INDEX in the secret word?\n",
        "      if(letter == secret[position]):\n",
        "        printColorfulLetter(letter, True, True)\n",
        "      # If it's not at the current index, we know by this point in the code that it's still used in the secret word somewhere...\n",
        "      else:\n",
        "        printColorfulLetter(letter, True, False)\n",
        "    else:\n",
        "      printColorfulLetter(letter, False, False)\n",
        "    print(Style.RESET_ALL + \" \", end=\"\")\n",
        "\n",
        "def getSixLetterInput():\n",
        "  secretWord = \"pyThOn\"\n",
        "  chances = 5\n",
        "  # while chances are greater than 0 input the word and\n",
        "  # use logic for right word, too big/small, or 6 letters but wrong word\n",
        "  while chances > 0:\n",
        "    word = input(\"Enter a six letter word: \")\n",
        "    if (word.lower() == secretWord.lower()):\n",
        "      printColorfulLetter(word, True, True)\n",
        "      print(Style.RESET_ALL + \" \", end=\"\")\n",
        "      print()\n",
        "      print(\"You win!\")\n",
        "      break\n",
        "\n",
        "#### FIX THIS AREA\n",
        "    else:\n",
        "      chances -= 1\n",
        "      if len(word) == 6:\n",
        "          print(f\"Word is 6 characters but it's not the right word! You have {chances} chances left.\")\n",
        "          #### loop through and pretty print for every letter and determine RGY\n",
        "          # I think I need 2 for loops checking if in pos or not in pos?\n",
        "          for i in range(len(word)):\n",
        "            if word[i] == secretWord[i]:\n",
        "              # printColorfulLetter(word[i], True, True)\n",
        "              printGuessAccuracy(word, secretWord)\n",
        "            elif word != secretWord:\n",
        "              printColorfulLetter(word[i], True, False)\n",
        "              printGuessAccuracy(word, secretWord)\n",
        "            else:\n",
        "              printColorfulLetter(word[i], False, False)\n",
        "              printGuessAccuracy(word, secretWord)\n",
        "####\n",
        "\n",
        "      elif chances > 0 or chances < 0:\n",
        "          print(f\"Word must be exactly 6 characters. You have {chances} chances left.\")\n",
        "      else:\n",
        "          print(\"You've run out of chances.\")\n",
        "\n",
        "### MAIN PROGRAM ###\n",
        "introToGame()\n",
        "getSixLetterInput()\n",
        "\n",
        "### Requirements ###\n",
        "\n",
        "# Fix the provided printGuessAccuracy() function,\n",
        "# so that it properly displays the user's guess with each letter appropriately color-coded (see color-code guide in the description at the top of the project document)\n",
        "# Use the provided printColorfulLetter() function appropriately to\n",
        "# display a letter with the correct color-coded background.\n",
        "\n",
        "#### Write the main logic for your game.\n",
        "# display the color-coded guess (using the printGuessAccuracy() function you'll create)\n",
        "# to find out close their guess is\n",
        "\n",
        "# When you're finished writing code and your program works,\n",
        "# clean up all of the comments left by the instructors."
      ]
    },
    {
      "cell_type": "code",
      "source": [
        "()"
      ],
      "metadata": {
        "id": "ZYkZ4K7Xfudp"
      },
      "execution_count": null,
      "outputs": []
    }
  ]
}