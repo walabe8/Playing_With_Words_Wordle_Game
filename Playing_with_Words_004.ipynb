{
  "nbformat": 4,
  "nbformat_minor": 0,
  "metadata": {
    "colab": {
      "provenance": [],
      "authorship_tag": "ABX9TyPpYgH60wtVWKI6XTcczkbG",
      "include_colab_link": true
    },
    "kernelspec": {
      "name": "python3",
      "display_name": "Python 3"
    },
    "language_info": {
      "name": "python"
    }
  },
  "cells": [
    {
      "cell_type": "markdown",
      "metadata": {
        "id": "view-in-github",
        "colab_type": "text"
      },
      "source": [
        "<a href=\"https://colab.research.google.com/github/walabe8/Playing_With_Words_Wordle_Game/blob/main/Playing_with_Words_004.ipynb\" target=\"_parent\"><img src=\"https://colab.research.google.com/assets/colab-badge.svg\" alt=\"Open In Colab\"/></a>"
      ]
    },
    {
      "cell_type": "code",
      "execution_count": 78,
      "metadata": {
        "id": "4CVJJgTcN2ZV",
        "colab": {
          "base_uri": "https://localhost:8080/"
        },
        "outputId": "7bc82d0d-de32-453c-d380-cc19e417bb4f"
      },
      "outputs": [
        {
          "output_type": "stream",
          "name": "stdout",
          "text": [
            "Requirement already satisfied: colorama in /usr/local/lib/python3.11/dist-packages (0.4.6)\n",
            "Welcome to Word Play!\n",
            "\n",
            "You have five tries to get the word correct\n",
            "The word is SIX CHARACTERS long, and you must enter a guess of this length\n",
            "If a letter is in the correct place, it will be green\n",
            "If a letter is in the word but NOT in the correct place, it will be yellow\n",
            "If a letter is NOT in the correct place, it will be red\n",
            "\n",
            "Enter a six letter word: Pythun\n",
            "Word is 6 characters but it's not the right word! You have 4 chances left.\n",
            "\u001b[41m\u001b[37m P \u001b[0m \u001b[102m\u001b[37m y \u001b[0m \u001b[41m\u001b[37m t \u001b[0m \u001b[102m\u001b[37m h \u001b[0m \u001b[41m\u001b[37m u \u001b[0m \u001b[102m\u001b[37m n \u001b[0m Enter a six letter word: Python\n",
            "\u001b[102m\u001b[37m Python \u001b[0m \n",
            "You win!\n"
          ]
        }
      ],
      "source": [
        "!pip install colorama\n",
        "from colorama import Fore, Back, Style\n",
        "\n",
        "#### FUNCTIONS ####\n",
        "\n",
        "# Prints intro to game\n",
        "def introToGame():\n",
        "  print(\"Welcome to Word Play!\")\n",
        "  print()\n",
        "  print(f\"You have five tries to get the word correct\")\n",
        "  print(\"The word is SIX CHARACTERS long, and you must enter a guess of this length\")\n",
        "  print(\"If a letter is in the correct place, it will be green\")\n",
        "  print(\"If a letter is in the word but NOT in the correct place, it will be yellow\")\n",
        "  print(\"If a letter is NOT in the correct place, it will be red\")\n",
        "  print()\n",
        "\n",
        "# Prints out a letter with a colorful background\n",
        "def printColorfulLetter(letter, isLetterInWord, isLetterInCorrectPlace = False):\n",
        "  if(not isLetterInWord):\n",
        "    print(Back.RED + Fore.WHITE + f\" {letter} \", end=\"\")\n",
        "  else:\n",
        "    if(isLetterInCorrectPlace):\n",
        "      print(Back.LIGHTGREEN_EX + Fore.WHITE + f\" {letter} \", end=\"\")\n",
        "    else:\n",
        "      print(Back.LIGHTYELLOW_EX + Fore.BLACK + f\" {letter} \", end=\"\")\n",
        "\n",
        "# Display a guess, where each letter is color-coded by it's accuracy\n",
        "def printGuessAccuracy(guess, actual):\n",
        "  for index in range(6):\n",
        "\n",
        "    # Grab the letter from the guess\n",
        "    letter = guess[index]\n",
        "\n",
        "    # Check if the letter at this index of the user's guess is in the secret word AT ALL or not\n",
        "    if letter == actual[index]:\n",
        "\n",
        "      # If the letter is in the secret word, is it also AT THE CURRENT INDEX in the secret word?\n",
        "      if(letter == actual[index]):\n",
        "        printColorfulLetter(letter, True, True)\n",
        "      else:\n",
        "        printColorfulLetter(letter, True, False)\n",
        "    else:\n",
        "         printColorfulLetter(letter, False, False)\n",
        "    print(Style.RESET_ALL + \" \", end=\"\")\n",
        "\n",
        "def getSixLetterInput():\n",
        "  secretWord = \"pyThOn\"\n",
        "  chances = 5\n",
        "  # while chances are greater than 0 input the word and\n",
        "  # use logic for right word, too big/small, or 6 letters but wrong word\n",
        "  while chances > 0:\n",
        "    word = input(\"Enter a six letter word: \")\n",
        "    if (word.lower() == secretWord.lower()):\n",
        "      printColorfulLetter(word, True, True)\n",
        "      print(Style.RESET_ALL + \" \", end=\"\")\n",
        "      print()\n",
        "      print(\"You win!\")\n",
        "      break\n",
        "    else:\n",
        "      chances -= 1\n",
        "      if len(word) == 6:\n",
        "          print(f\"Word is 6 characters but it's not the right word! You have {chances} chances left.\")\n",
        "          printGuessAccuracy(word, secretWord)\n",
        "      elif chances > 0 or chances < 0:\n",
        "          print(f\"Word must be exactly 6 characters. You have {chances} chances left.\")\n",
        "      else:\n",
        "          print(\"You've run out of chances.\")\n",
        "\n",
        "### MAIN PROGRAM ###\n",
        "introToGame()\n",
        "getSixLetterInput()\n",
        "\n",
        "### Requirements ###\n",
        "# Fix the provided printGuessAccuracy() function,\n",
        "# so that it properly displays the user's guess with each letter appropriately color-coded (see color-code guide in the description at the top of the project document)\n",
        "# Use the provided printColorfulLetter() function appropriately to\n",
        "# display a letter with the correct color-coded background.\n",
        "\n",
        "#### Write the main logic for your game.\n",
        "# display the color-coded guess (using the printGuessAccuracy() function you'll create)\n",
        "# to find out close their guess is\n",
        "\n",
        "# When you're finished writing code and your program works,\n",
        "# clean up all of the comments left by the instructors."
      ]
    },
    {
      "cell_type": "code",
      "source": [
        "()"
      ],
      "metadata": {
        "id": "ZYkZ4K7Xfudp"
      },
      "execution_count": null,
      "outputs": []
    }
  ]
}