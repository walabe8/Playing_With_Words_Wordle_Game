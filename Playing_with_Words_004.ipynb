{
  "nbformat": 4,
  "nbformat_minor": 0,
  "metadata": {
    "colab": {
      "provenance": [],
      "authorship_tag": "ABX9TyMR++P41SUT4XqqK6QrhZoY",
      "include_colab_link": true
    },
    "kernelspec": {
      "name": "python3",
      "display_name": "Python 3"
    },
    "language_info": {
      "name": "python"
    }
  },
  "cells": [
    {
      "cell_type": "markdown",
      "metadata": {
        "id": "view-in-github",
        "colab_type": "text"
      },
      "source": [
        "<a href=\"https://colab.research.google.com/github/walabe8/Playing_With_Words_Wordle_Game/blob/main/Playing_with_Words_004.ipynb\" target=\"_parent\"><img src=\"https://colab.research.google.com/assets/colab-badge.svg\" alt=\"Open In Colab\"/></a>"
      ]
    },
    {
      "cell_type": "code",
      "execution_count": null,
      "metadata": {
        "id": "4CVJJgTcN2ZV",
        "colab": {
          "base_uri": "https://localhost:8080/",
          "height": 609
        },
        "outputId": "e56979db-1439-4b19-9c16-d1a801eb0a11"
      },
      "outputs": [
        {
          "output_type": "stream",
          "name": "stdout",
          "text": [
            "Requirement already satisfied: colorama in /usr/local/lib/python3.11/dist-packages (0.4.6)\n",
            "Welcome to Word Play!\n",
            "\n",
            "You have five tries to get the word correct\n",
            "The word is SIX CHARACTERS long, and you must enter a guess of this length\n",
            "If a letter is in the correct place, it will be green\n",
            "If a letter is in the word but NOT in the correct place, it will be yellow\n",
            "If a letter is NOT in the correct place, it will be red\n",
            "\n",
            "Enter a six letter word: Pythun\n",
            "Word is 6 characters but it's not the right word! You have 4 chances left.\n",
            "\u001b[41m\u001b[37m Pythun \u001b[41m\u001b[37m Pythun \u001b[41m\u001b[37m Pythun \u001b[41m\u001b[37m Pythun \u001b[41m\u001b[37m Pythun \u001b[41m\u001b[37m Pythun "
          ]
        },
        {
          "output_type": "error",
          "ename": "KeyboardInterrupt",
          "evalue": "Interrupted by user",
          "traceback": [
            "\u001b[0;31m---------------------------------------------------------------------------\u001b[0m",
            "\u001b[0;31mKeyboardInterrupt\u001b[0m                         Traceback (most recent call last)",
            "\u001b[0;32m<ipython-input-27-91d066d84a15>\u001b[0m in \u001b[0;36m<cell line: 0>\u001b[0;34m()\u001b[0m\n\u001b[1;32m     87\u001b[0m \u001b[0;31m### MAIN PROGRAM ###\u001b[0m\u001b[0;34m\u001b[0m\u001b[0;34m\u001b[0m\u001b[0m\n\u001b[1;32m     88\u001b[0m \u001b[0mintroToGame\u001b[0m\u001b[0;34m(\u001b[0m\u001b[0;34m)\u001b[0m\u001b[0;34m\u001b[0m\u001b[0;34m\u001b[0m\u001b[0m\n\u001b[0;32m---> 89\u001b[0;31m \u001b[0mgetSixLetterInput\u001b[0m\u001b[0;34m(\u001b[0m\u001b[0;34m)\u001b[0m\u001b[0;34m\u001b[0m\u001b[0;34m\u001b[0m\u001b[0m\n\u001b[0m\u001b[1;32m     90\u001b[0m \u001b[0mprintColorfulLetter\u001b[0m\u001b[0;34m(\u001b[0m\u001b[0;34m\"getSixLetterInput()\"\u001b[0m\u001b[0;34m,\u001b[0m \u001b[0;32mTrue\u001b[0m\u001b[0;34m,\u001b[0m \u001b[0;32mFalse\u001b[0m\u001b[0;34m)\u001b[0m\u001b[0;34m\u001b[0m\u001b[0;34m\u001b[0m\u001b[0m\n\u001b[1;32m     91\u001b[0m \u001b[0mprintColorfulLetter\u001b[0m\u001b[0;34m(\u001b[0m\u001b[0;34m\"y\"\u001b[0m\u001b[0;34m,\u001b[0m \u001b[0;32mFalse\u001b[0m\u001b[0;34m,\u001b[0m \u001b[0;32mFalse\u001b[0m\u001b[0;34m)\u001b[0m\u001b[0;34m\u001b[0m\u001b[0;34m\u001b[0m\u001b[0m\n",
            "\u001b[0;32m<ipython-input-27-91d066d84a15>\u001b[0m in \u001b[0;36mgetSixLetterInput\u001b[0;34m()\u001b[0m\n\u001b[1;32m     55\u001b[0m   \u001b[0;31m# while chances are greater than 0 input the word and use logic for right word, too big/small, or 6 letters but wrong word\u001b[0m\u001b[0;34m\u001b[0m\u001b[0;34m\u001b[0m\u001b[0m\n\u001b[1;32m     56\u001b[0m   \u001b[0;32mwhile\u001b[0m \u001b[0mchances\u001b[0m \u001b[0;34m>\u001b[0m \u001b[0;36m0\u001b[0m\u001b[0;34m:\u001b[0m\u001b[0;34m\u001b[0m\u001b[0;34m\u001b[0m\u001b[0m\n\u001b[0;32m---> 57\u001b[0;31m     \u001b[0mword\u001b[0m \u001b[0;34m=\u001b[0m \u001b[0minput\u001b[0m\u001b[0;34m(\u001b[0m\u001b[0;34m\"Enter a six letter word: \"\u001b[0m\u001b[0;34m)\u001b[0m\u001b[0;34m\u001b[0m\u001b[0;34m\u001b[0m\u001b[0m\n\u001b[0m\u001b[1;32m     58\u001b[0m     \u001b[0;32mif\u001b[0m \u001b[0;34m(\u001b[0m\u001b[0mword\u001b[0m\u001b[0;34m.\u001b[0m\u001b[0mlower\u001b[0m\u001b[0;34m(\u001b[0m\u001b[0;34m)\u001b[0m \u001b[0;34m==\u001b[0m \u001b[0msecretWord\u001b[0m\u001b[0;34m.\u001b[0m\u001b[0mlower\u001b[0m\u001b[0;34m(\u001b[0m\u001b[0;34m)\u001b[0m\u001b[0;34m)\u001b[0m\u001b[0;34m:\u001b[0m\u001b[0;34m\u001b[0m\u001b[0;34m\u001b[0m\u001b[0m\n\u001b[1;32m     59\u001b[0m       \u001b[0mprintColorfulLetter\u001b[0m\u001b[0;34m(\u001b[0m\u001b[0mword\u001b[0m\u001b[0;34m,\u001b[0m \u001b[0;32mTrue\u001b[0m\u001b[0;34m,\u001b[0m \u001b[0;32mTrue\u001b[0m\u001b[0;34m)\u001b[0m\u001b[0;34m\u001b[0m\u001b[0;34m\u001b[0m\u001b[0m\n",
            "\u001b[0;32m/usr/local/lib/python3.11/dist-packages/ipykernel/kernelbase.py\u001b[0m in \u001b[0;36mraw_input\u001b[0;34m(self, prompt)\u001b[0m\n\u001b[1;32m    849\u001b[0m                 \u001b[0;34m\"raw_input was called, but this frontend does not support input requests.\"\u001b[0m\u001b[0;34m\u001b[0m\u001b[0;34m\u001b[0m\u001b[0m\n\u001b[1;32m    850\u001b[0m             )\n\u001b[0;32m--> 851\u001b[0;31m         return self._input_request(str(prompt),\n\u001b[0m\u001b[1;32m    852\u001b[0m             \u001b[0mself\u001b[0m\u001b[0;34m.\u001b[0m\u001b[0m_parent_ident\u001b[0m\u001b[0;34m,\u001b[0m\u001b[0;34m\u001b[0m\u001b[0;34m\u001b[0m\u001b[0m\n\u001b[1;32m    853\u001b[0m             \u001b[0mself\u001b[0m\u001b[0;34m.\u001b[0m\u001b[0m_parent_header\u001b[0m\u001b[0;34m,\u001b[0m\u001b[0;34m\u001b[0m\u001b[0;34m\u001b[0m\u001b[0m\n",
            "\u001b[0;32m/usr/local/lib/python3.11/dist-packages/ipykernel/kernelbase.py\u001b[0m in \u001b[0;36m_input_request\u001b[0;34m(self, prompt, ident, parent, password)\u001b[0m\n\u001b[1;32m    893\u001b[0m             \u001b[0;32mexcept\u001b[0m \u001b[0mKeyboardInterrupt\u001b[0m\u001b[0;34m:\u001b[0m\u001b[0;34m\u001b[0m\u001b[0;34m\u001b[0m\u001b[0m\n\u001b[1;32m    894\u001b[0m                 \u001b[0;31m# re-raise KeyboardInterrupt, to truncate traceback\u001b[0m\u001b[0;34m\u001b[0m\u001b[0;34m\u001b[0m\u001b[0m\n\u001b[0;32m--> 895\u001b[0;31m                 \u001b[0;32mraise\u001b[0m \u001b[0mKeyboardInterrupt\u001b[0m\u001b[0;34m(\u001b[0m\u001b[0;34m\"Interrupted by user\"\u001b[0m\u001b[0;34m)\u001b[0m \u001b[0;32mfrom\u001b[0m \u001b[0;32mNone\u001b[0m\u001b[0;34m\u001b[0m\u001b[0;34m\u001b[0m\u001b[0m\n\u001b[0m\u001b[1;32m    896\u001b[0m             \u001b[0;32mexcept\u001b[0m \u001b[0mException\u001b[0m \u001b[0;32mas\u001b[0m \u001b[0me\u001b[0m\u001b[0;34m:\u001b[0m\u001b[0;34m\u001b[0m\u001b[0;34m\u001b[0m\u001b[0m\n\u001b[1;32m    897\u001b[0m                 \u001b[0mself\u001b[0m\u001b[0;34m.\u001b[0m\u001b[0mlog\u001b[0m\u001b[0;34m.\u001b[0m\u001b[0mwarning\u001b[0m\u001b[0;34m(\u001b[0m\u001b[0;34m\"Invalid Message:\"\u001b[0m\u001b[0;34m,\u001b[0m \u001b[0mexc_info\u001b[0m\u001b[0;34m=\u001b[0m\u001b[0;32mTrue\u001b[0m\u001b[0;34m)\u001b[0m\u001b[0;34m\u001b[0m\u001b[0;34m\u001b[0m\u001b[0m\n",
            "\u001b[0;31mKeyboardInterrupt\u001b[0m: Interrupted by user"
          ]
        }
      ],
      "source": [
        "!pip install colorama\n",
        "from colorama import Fore, Back, Style\n",
        "\n",
        "#### FUNCTIONS ####\n",
        "\n",
        "# Prints intro to game\n",
        "def introToGame():\n",
        "  print(\"Welcome to Word Play!\")\n",
        "  print()\n",
        "  print(\"You have five tries to get the word correct\")\n",
        "  print(\"The word is SIX CHARACTERS long, and you must enter a guess of this length\")\n",
        "  print(\"If a letter is in the correct place, it will be green\")\n",
        "  print(\"If a letter is in the word but NOT in the correct place, it will be yellow\")\n",
        "  print(\"If a letter is NOT in the correct place, it will be red\")\n",
        "  print()\n",
        "\n",
        "# Prints out a letter with a colorful background\n",
        "def printColorfulLetter(letter, isLetterInWord, isLetterInCorrectPlace = False):\n",
        "  # If NOT in word, display RED background\n",
        "  if(not isLetterInWord):\n",
        "    print(Back.RED + Fore.WHITE + f\" {letter} \", end=\"\")\n",
        "  # If IN word\n",
        "  else:\n",
        "    # ...and it's also in the right place, display GREEN background\n",
        "    if(isLetterInCorrectPlace):\n",
        "      print(Back.LIGHTGREEN_EX + Fore.WHITE + f\" {letter} \", end=\"\")\n",
        "    # ...but in the wrong place, display YELLOW background\n",
        "    else:\n",
        "      print(Back.LIGHTYELLOW_EX + Fore.BLACK + f\" {letter} \", end=\"\")\n",
        "\n",
        "### FIX THIS FUNCTION BELOW\n",
        "# Display a guess, where each letter is color-coded by it's accuracy\n",
        "def printGuessAccuracy(guess, actual):\n",
        "  for index in range(6):\n",
        "    # Grab the letter from the guess\n",
        "    letter = guess[index]\n",
        "    # Check if the letter at this index of the user's guess is in the secret word AT ALL or not\n",
        "    if i in letter:\n",
        "      # If the letter is in the secret word, is it also AT THE CURRENT INDEX in the secret word?\n",
        "      if(letter == secret[position]):\n",
        "        # Print GREEN background\n",
        "        printColorfulLetter(letter, True, True)\n",
        "      # If it's not at the current index, we know by this point in the code that it's still used in the secret word somewhere...\n",
        "      else:\n",
        "        printColorfulLetter(letter, False, False)\n",
        "        # ...so we'll print it out with a yellow background\n",
        "    # Letter NOT in word. Print RED background\n",
        "    else:\n",
        "      printColorfulLetter(letter, True, False)\n",
        "    print(Style.RESET_ALL + \" \", end=\"\")\n",
        "\n",
        "def getSixLetterInput():\n",
        "  secretWord = \"pyThOn\"\n",
        "  chances = 5\n",
        "  # while chances are greater than 0 input the word and use logic for right word, too big/small, or 6 letters but wrong word\n",
        "  while chances > 0:\n",
        "    word = input(\"Enter a six letter word: \")\n",
        "    if (word.lower() == secretWord.lower()):\n",
        "      printColorfulLetter(word, True, True)\n",
        "      print(\"You win!\")\n",
        "      break\n",
        "\n",
        "    else:\n",
        "      chances -= 1\n",
        "      if len(word) == 6:\n",
        "          print(f\"Word is 6 characters but it's not the right word! You have {chances} chances left.\")\n",
        "          #### loop through and pretty print for every letter and determine RGY\n",
        "          # I think I need 2 for loops checking if in pos or not in pos?\n",
        "          for i in word:\n",
        "            if word == secretWord:\n",
        "              printColorfulLetter(word, True, True)\n",
        "            # elif word != secretWord\n",
        "            #   printColorfulLetter(word, True, False)\n",
        "            else:\n",
        "              printColorfulLetter(word, False, False)\n",
        "              #### use other function for guess accuracy\n",
        "              # printGuessAccuracy(word, secretWord)\n",
        "      elif chances > 0 or chances < 0:\n",
        "          print(f\"Word must be exactly 6 characters. You have {chances} chances left.\")\n",
        "      else:\n",
        "          print(\"You've run out of chances.\")\n",
        "\n",
        "\n",
        "\n",
        "\n",
        "\n",
        "### MAIN PROGRAM ###\n",
        "introToGame()\n",
        "getSixLetterInput()\n",
        "printColorfulLetter(\"getSixLetterInput()\", True, False)\n",
        "printColorfulLetter(\"y\", False, False)\n",
        "printColorfulLetter(\"t\", True, True)\n",
        "printColorfulLetter(\"h\", False, True)\n",
        "printColorfulLetter(\"o\", False, True)\n",
        "printColorfulLetter(\"n\", False, True)\n",
        "\n",
        "### Requirements ###\n",
        "# Fix the provided printGuessAccuracy() function, so that it properly displays the user's guess with each letter appropriately color-coded (see color-code guide in the description at the top of the project document)\n",
        "# Use the provided printColorfulLetter() function appropriately to display a letter with the correct color-coded background.\n",
        "\n",
        "# After the function definitions, write the main logic for your game.\n",
        "# The game should give the user a turn until they either guess the word correctly or have six incorrect guesses\n",
        "# On each turn, the user should be prompted to enter a six letter word (using the function you'll create),\n",
        "# then display the color-coded guess (using the printGuessAccuracy() function you'll create) to find out close their guess is\n",
        "\n",
        "# When you're finished writing code and your program works, clean up all of the comments left by the instructors."
      ]
    },
    {
      "cell_type": "code",
      "source": [
        "()"
      ],
      "metadata": {
        "id": "ZYkZ4K7Xfudp"
      },
      "execution_count": null,
      "outputs": []
    }
  ]
}